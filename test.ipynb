{
 "cells": [
  {
   "cell_type": "code",
   "execution_count": 9,
   "metadata": {},
   "outputs": [],
   "source": [
    "import cv2.dnn\n",
    "import numpy as np"
   ]
  },
  {
   "cell_type": "code",
   "execution_count": 10,
   "metadata": {},
   "outputs": [],
   "source": [
    "def draw_bounding_box(img, x, y, x_plus_w, y_plus_h):\n",
    "    cv2.rectangle(img, (x, y), (x_plus_w, y_plus_h), (0, 0, 255), 2)"
   ]
  },
  {
   "cell_type": "code",
   "execution_count": 11,
   "metadata": {},
   "outputs": [],
   "source": [
    "input_image = \"./examples1/images/nlvnpf-0137-01-011.jpg\""
   ]
  },
  {
   "cell_type": "code",
   "execution_count": 12,
   "metadata": {},
   "outputs": [],
   "source": [
    "def square_padding(image, size):\n",
    "    # zero padding\n",
    "    h, w = image.shape[:2]\n",
    "    if h > w:\n",
    "        pad = (h - w) // 2\n",
    "        image = cv2.copyMakeBorder(\n",
    "            image, 0, 0, pad, pad, cv2.BORDER_CONSTANT, value=(0, 0, 0)\n",
    "        )\n",
    "    else:\n",
    "        pad = (w - h) // 2\n",
    "        image = cv2.copyMakeBorder(\n",
    "            image, pad, pad, 0, 0, cv2.BORDER_CONSTANT, value=(0, 0, 0)\n",
    "        )\n",
    "    # resize\n",
    "    image = cv2.resize(image, (size, size))\n",
    "\n",
    "    return image"
   ]
  },
  {
   "cell_type": "code",
   "execution_count": 13,
   "metadata": {},
   "outputs": [],
   "source": [
    "model = cv2.dnn.readNetFromONNX(\"yolov8n.onnx\")\n",
    "\n",
    "original_image: np.ndarray = cv2.imread(input_image)\n",
    "[height, width, _] = original_image.shape\n",
    "\n",
    "# Prepare a square image for inference\n",
    "length = max((height, width))\n",
    "image = np.zeros((length, length, 3), np.uint8)\n",
    "image[0:height, 0:width] = original_image\n",
    "\n",
    "# Calculate scale factor\n",
    "scale = length / 640"
   ]
  },
  {
   "cell_type": "code",
   "execution_count": 14,
   "metadata": {},
   "outputs": [],
   "source": [
    "# Preprocess the image and prepare blob for model\n",
    "blob = cv2.dnn.blobFromImage(image, scalefactor=1 / 255, size=(640, 640), swapRB=True)"
   ]
  },
  {
   "cell_type": "code",
   "execution_count": 15,
   "metadata": {},
   "outputs": [],
   "source": [
    "model.setInput(blob)\n",
    "\n",
    "# Perform inference\n",
    "outputs = model.forward()\n",
    "\n",
    "# Prepare output array\n",
    "outputs = np.array([cv2.transpose(outputs[0])])\n",
    "rows = outputs.shape[1]\n",
    "\n",
    "boxes = []\n",
    "scores = []\n",
    "class_ids = []\n",
    "\n",
    "for i in range(rows):\n",
    "    classes_scores = outputs[0][i][4:]\n",
    "    (minScore, maxScore, minClassLoc, (x, maxClassIndex)) = cv2.minMaxLoc(\n",
    "        classes_scores\n",
    "    )\n",
    "    if maxScore >= 0.25:\n",
    "        box = [\n",
    "            outputs[0][i][0],\n",
    "            outputs[0][i][1],\n",
    "            outputs[0][i][2],\n",
    "            outputs[0][i][3],\n",
    "        ]\n",
    "        boxes.append(box)\n",
    "        scores.append(maxScore)\n",
    "        class_ids.append(maxClassIndex)\n",
    "\n",
    "# Apply NMS (Non-maximum suppression)\n",
    "result_boxes = cv2.dnn.NMSBoxes(boxes, scores, 0.5, 0.5, 0.5)\n",
    "\n",
    "# List of confidence, xcenter, ycenter, width, height\n",
    "detections = []\n",
    "\n",
    "# Iterate through NMS results to draw bounding boxes and labels\n",
    "for i in range(len(result_boxes)):\n",
    "    index = result_boxes[i]\n",
    "    box = boxes[index]\n",
    "\n",
    "    detections.append(\n",
    "        [\n",
    "            scores[index],\n",
    "            round(box[0] * scale),\n",
    "            round(box[1] * scale),\n",
    "            round(box[0] * scale),\n",
    "            round(box[1] * scale),\n",
    "        ]\n",
    "    )\n",
    "\n",
    "    draw_bounding_box(\n",
    "        original_image,\n",
    "        round((box[0] - box[2] / 2) * scale),\n",
    "        round((box[1] - box[3] / 2) * scale),\n",
    "        round((box[0] + box[2] / 2) * scale),\n",
    "        round((box[1] + box[3] / 2) * scale),\n",
    "    )"
   ]
  },
  {
   "cell_type": "code",
   "execution_count": null,
   "metadata": {},
   "outputs": [],
   "source": []
  },
  {
   "cell_type": "code",
   "execution_count": 16,
   "metadata": {},
   "outputs": [
    {
     "data": {
      "text/plain": [
       "True"
      ]
     },
     "execution_count": 16,
     "metadata": {},
     "output_type": "execute_result"
    }
   ],
   "source": [
    "# save the image\n",
    "cv2.imwrite(\"output.jpg\", original_image)"
   ]
  },
  {
   "cell_type": "code",
   "execution_count": null,
   "metadata": {},
   "outputs": [],
   "source": []
  }
 ],
 "metadata": {
  "kernelspec": {
   "display_name": "nom",
   "language": "python",
   "name": "python3"
  },
  "language_info": {
   "codemirror_mode": {
    "name": "ipython",
    "version": 3
   },
   "file_extension": ".py",
   "mimetype": "text/x-python",
   "name": "python",
   "nbconvert_exporter": "python",
   "pygments_lexer": "ipython3",
   "version": "3.9.19"
  }
 },
 "nbformat": 4,
 "nbformat_minor": 2
}
